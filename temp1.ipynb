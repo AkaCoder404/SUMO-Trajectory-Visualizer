{
 "cells": [
  {
   "cell_type": "code",
   "execution_count": 10,
   "metadata": {},
   "outputs": [],
   "source": [
    "import pandas as pd\n",
    "import pptk\n",
    "import numpy as np"
   ]
  },
  {
   "cell_type": "code",
   "execution_count": 12,
   "metadata": {},
   "outputs": [],
   "source": [
    "# Read from hdf5\n",
    "df = pd.read_hdf('data/geolife.h5', 'df')"
   ]
  },
  {
   "cell_type": "code",
   "execution_count": 13,
   "metadata": {},
   "outputs": [
    {
     "name": "stdout",
     "output_type": "stream",
     "text": [
      "         lat         lon    alt          trajectory            timestamp  \\\n",
      "0  39.984702  116.318417  492.0  20081023025304.plt  1224730384000000000   \n",
      "1  39.984683  116.318450  492.0  20081023025304.plt  1224730390000000000   \n",
      "2  39.984686  116.318417  492.0  20081023025304.plt  1224730395000000000   \n",
      "3  39.984688  116.318385  492.0  20081023025304.plt  1224730400000000000   \n",
      "4  39.984655  116.318263  492.0  20081023025304.plt  1224730405000000000   \n",
      "\n",
      "  driver_id transport_mode  \n",
      "0       000              0  \n",
      "1       000              0  \n",
      "2       000              0  \n",
      "3       000              0  \n",
      "4       000              0  \n"
     ]
    }
   ],
   "source": [
    "print(df.head())"
   ]
  },
  {
   "cell_type": "code",
   "execution_count": null,
   "metadata": {},
   "outputs": [],
   "source": []
  }
 ],
 "metadata": {
  "kernelspec": {
   "display_name": "py37",
   "language": "python",
   "name": "python3"
  },
  "language_info": {
   "codemirror_mode": {
    "name": "ipython",
    "version": 3
   },
   "file_extension": ".py",
   "mimetype": "text/x-python",
   "name": "python",
   "nbconvert_exporter": "python",
   "pygments_lexer": "ipython3",
   "version": "3.6.15"
  }
 },
 "nbformat": 4,
 "nbformat_minor": 2
}
