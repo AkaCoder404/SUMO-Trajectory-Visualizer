{
 "cells": [
  {
   "cell_type": "code",
   "execution_count": 3,
   "metadata": {},
   "outputs": [],
   "source": [
    "import pandas as pd\n",
    "import pptk\n",
    "import numpy as np"
   ]
  },
  {
   "cell_type": "code",
   "execution_count": 4,
   "metadata": {},
   "outputs": [],
   "source": [
    "# Read from hdf5\n",
    "df = pd.read_hdf('data/geolife.h5', 'df')"
   ]
  },
  {
   "cell_type": "code",
   "execution_count": 6,
   "metadata": {},
   "outputs": [
    {
     "name": "stdout",
     "output_type": "stream",
     "text": [
      "         lat         lon    alt          trajectory            timestamp  \\\n",
      "0  39.984702  116.318417  492.0  20081023025304.plt  1224730384000000000   \n",
      "1  39.984683  116.318450  492.0  20081023025304.plt  1224730390000000000   \n",
      "2  39.984686  116.318417  492.0  20081023025304.plt  1224730395000000000   \n",
      "3  39.984688  116.318385  492.0  20081023025304.plt  1224730400000000000   \n",
      "4  39.984655  116.318263  492.0  20081023025304.plt  1224730405000000000   \n",
      "\n",
      "  driver_id transport_mode  \n",
      "0       000              0  \n",
      "1       000              0  \n",
      "2       000              0  \n",
      "3       000              0  \n",
      "4       000              0  \n",
      "Length of dataframe:  24876978\n",
      "Number of trajectories:  17784\n"
     ]
    }
   ],
   "source": [
    "print(df.head())\n",
    "print(\"Length of dataframe: \", len(df))\n",
    "print(\"Number of trajectories: \", len(df['trajectory'].unique()))\n",
    "print(\"Number of users: \", len(df['driver_id'].unique()))"
   ]
  },
  {
   "cell_type": "code",
   "execution_count": 7,
   "metadata": {},
   "outputs": [],
   "source": [
    "p_cloud = np.c_[df['lon'], df['lat'], np.zeros(len(df))]\n"
   ]
  },
  {
   "cell_type": "code",
   "execution_count": 8,
   "metadata": {},
   "outputs": [],
   "source": [
    "v = pptk.viewer(p_cloud)\n",
    "v.attributes(df['alt'])"
   ]
  }
 ],
 "metadata": {
  "kernelspec": {
   "display_name": "py37",
   "language": "python",
   "name": "python3"
  },
  "language_info": {
   "codemirror_mode": {
    "name": "ipython",
    "version": 3
   },
   "file_extension": ".py",
   "mimetype": "text/x-python",
   "name": "python",
   "nbconvert_exporter": "python",
   "pygments_lexer": "ipython3",
   "version": "undefined.undefined.undefined"
  }
 },
 "nbformat": 4,
 "nbformat_minor": 2
}
