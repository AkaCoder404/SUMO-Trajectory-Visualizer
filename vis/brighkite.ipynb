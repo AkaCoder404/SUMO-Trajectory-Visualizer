{
 "cells": [
  {
   "cell_type": "markdown",
   "metadata": {},
   "source": [
    "# Brightkite Dataset\n",
    "\n",
    "This [dataset](https://snap.stanford.edu/data/loc-Brightkite.html)..."
   ]
  },
  {
   "cell_type": "code",
   "execution_count": 2,
   "metadata": {},
   "outputs": [],
   "source": [
    "import pandas as pd"
   ]
  },
  {
   "cell_type": "code",
   "execution_count": 7,
   "metadata": {},
   "outputs": [
    {
     "name": "stdout",
     "output_type": "stream",
     "text": [
      "          user         check-in time   latitude   longitude  \\\n",
      "0            0  2010-10-17T01:48:53Z  39.747652 -104.992510   \n",
      "1            0  2010-10-16T06:02:04Z  39.891383 -105.070814   \n",
      "2            0  2010-10-16T03:48:54Z  39.891077 -105.068532   \n",
      "3            0  2010-10-14T18:25:51Z  39.750469 -104.999073   \n",
      "4            0  2010-10-14T00:21:47Z  39.752713 -104.996337   \n",
      "...        ...                   ...        ...         ...   \n",
      "4747282  58222  2009-01-23T02:30:34Z  33.833333   35.833333   \n",
      "4747283  58224  2009-01-03T15:06:54Z  33.833333   35.833333   \n",
      "4747284  58225  2009-01-20T13:58:14Z  33.833333   35.833333   \n",
      "4747285  58226  2009-01-20T13:30:09Z  33.833333   35.833333   \n",
      "4747286  58227  2009-01-21T00:24:35Z  33.833333   35.833333   \n",
      "\n",
      "                                      location id  \n",
      "0                88c46bf20db295831bd2d1718ad7e6f5  \n",
      "1                7a0f88982aa015062b95e3b4843f9ca2  \n",
      "2                dd7cd3d264c2d063832db506fba8bf79  \n",
      "3        9848afcc62e500a01cf6fbf24b797732f8963683  \n",
      "4                2ef143e12038c870038df53e0478cefc  \n",
      "...                                           ...  \n",
      "4747282          9f6b83bca22411dd85460384f67fcdb0  \n",
      "4747283          9f6b83bca22411dd85460384f67fcdb0  \n",
      "4747284          9f6b83bca22411dd85460384f67fcdb0  \n",
      "4747285          9f6b83bca22411dd85460384f67fcdb0  \n",
      "4747286          9f6b83bca22411dd85460384f67fcdb0  \n",
      "\n",
      "[4747287 rows x 5 columns]\n"
     ]
    }
   ],
   "source": [
    "column_names = ['user', 'check-in time', 'latitude', 'longitude', 'location id']\n",
    "checkins_df = pd.read_csv('../data/brightkite/loc-brightkite_totalCheckins.txt', sep=\"\\t\", names=column_names)\n",
    "print(checkins_df)"
   ]
  },
  {
   "cell_type": "code",
   "execution_count": 6,
   "metadata": {},
   "outputs": [
    {
     "name": "stdout",
     "output_type": "stream",
     "text": [
      "  0\\t2010-10-17T01:48:53Z\\t39.747652\\t-104.99251\\t88c46bf20db295831bd2d1718ad7e6f5\n",
      "0  0\\t2010-10-16T06:02:04Z\\t39.891383\\t-105.07081...                              \n",
      "1  0\\t2010-10-16T03:48:54Z\\t39.891077\\t-105.06853...                              \n",
      "2  0\\t2010-10-14T18:25:51Z\\t39.750469\\t-104.99907...                              \n",
      "3  0\\t2010-10-14T00:21:47Z\\t39.752713\\t-104.99633...                              \n",
      "4  0\\t2010-10-13T23:31:51Z\\t39.752508\\t-104.99663...                              \n"
     ]
    }
   ],
   "source": [
    "print(checkins_df.head())"
   ]
  },
  {
   "cell_type": "code",
   "execution_count": null,
   "metadata": {},
   "outputs": [],
   "source": []
  }
 ],
 "metadata": {
  "kernelspec": {
   "display_name": "sumo312",
   "language": "python",
   "name": "python3"
  },
  "language_info": {
   "codemirror_mode": {
    "name": "ipython",
    "version": 3
   },
   "file_extension": ".py",
   "mimetype": "text/x-python",
   "name": "python",
   "nbconvert_exporter": "python",
   "pygments_lexer": "ipython3",
   "version": "3.12.4"
  }
 },
 "nbformat": 4,
 "nbformat_minor": 2
}
