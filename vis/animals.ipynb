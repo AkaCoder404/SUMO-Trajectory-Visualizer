{
 "cells": [
  {
   "cell_type": "markdown",
   "metadata": {},
   "source": [
    "# Animals Dataset\n",
    "\n",
    "Raw trajectories of three different species: Elk, deer, cattle dataset by the Starkley Project. It has a total of 253 trajectories and 287,136 trajectory points. "
   ]
  },
  {
   "cell_type": "code",
   "execution_count": 2,
   "metadata": {},
   "outputs": [],
   "source": [
    "import folium\n",
    "from folium.plugins import HeatMap\n",
    "import matplotlib.pyplot as plt\n",
    "import pandas as pd\n",
    "import seaborn as sns\n",
    "import osmnx as ox\n",
    "import os\n",
    "import glob\n",
    "from tqdm import tqdm\n",
    "import numpy as np\n",
    "from scipy.stats import gaussian_kde\n",
    "import pickle"
   ]
  },
  {
   "cell_type": "markdown",
   "metadata": {},
   "source": [
    "## Data\n",
    "Let's format and get the correct dataset"
   ]
  },
  {
   "cell_type": "code",
   "execution_count": 3,
   "metadata": {},
   "outputs": [],
   "source": [
    "def read_json(file)\n",
    "    df = pd.read_json(file)"
   ]
  },
  {
   "cell_type": "code",
   "execution_count": 6,
   "metadata": {},
   "outputs": [
    {
     "name": "stdout",
     "output_type": "stream",
     "text": [
      "   version                                              trajs labels\n",
      "0        0  {'axes': [[-118.60659553416245, -118.606632239...    Elk\n",
      "1        0  {'axes': [[-118.60197968890468, -118.601549738...    Elk\n",
      "2        0  {'axes': [[-118.56165012297616, -118.562036680...    Elk\n",
      "3        0  {'axes': [[-118.5974981317396, -118.5971938619...    Elk\n",
      "4        0  {'axes': [[-118.56624698756322, -118.565916820...    Elk\n",
      "Length of df:  253\n"
     ]
    }
   ],
   "source": [
    "if not os.exists('../data/animals.pkl'):\n",
    "    df = read_json('../data/animals.json')\n",
    "else:\n",
    "    df = pd.read_pickle('../data/animals.pkl')\n",
    "\n",
    "print(df.head())\n",
    "print(\"Length of df: \", len(df))"
   ]
  },
  {
   "cell_type": "code",
   "execution_count": null,
   "metadata": {},
   "outputs": [],
   "source": []
  }
 ],
 "metadata": {
  "kernelspec": {
   "display_name": "sumo312",
   "language": "python",
   "name": "python3"
  },
  "language_info": {
   "codemirror_mode": {
    "name": "ipython",
    "version": 3
   },
   "file_extension": ".py",
   "mimetype": "text/x-python",
   "name": "python",
   "nbconvert_exporter": "python",
   "pygments_lexer": "ipython3",
   "version": "3.12.4"
  }
 },
 "nbformat": 4,
 "nbformat_minor": 2
}
